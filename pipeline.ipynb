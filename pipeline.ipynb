{
  "cells": [
    {
      "cell_type": "code",
      "execution_count": null,
      "metadata": {},
      "outputs": [],
      "source": [
        "%load_ext autoreload\n",
        "%autoreload 2\n",
        "from youtube_transcript_api import YouTubeTranscriptApi\n",
        "from yt_dlp import YoutubeDL\n",
        "import os\n",
        "from thumbnail_generator import extract_frames, video_id, PromptGenerator, Diffuser\n",
        "\n",
        "url = \"https://www.youtube.com/watch?v=sw5stkAyP60\"\n",
        "yt_str = \"https://www.youtube.com/watch?v=\"\n",
        "ext = \"webm\"\n",
        "res = \"480\"\n",
        "gen_res = (1344,768)\n",
        "\n",
        "id = video_id(url)\n",
        "transcript_list = YouTubeTranscriptApi.get_transcript(id)\n",
        "transcript = ' '.join([section['text'] for section in transcript_list])\n",
        "\n",
        "opts = {\n",
        "  'format': f'bestvideo[ext={ext}][height={res}]',\n",
        "  'geo_bypass': True,\n",
        "  'geo_bypass_country': 'US',\n",
        "  'paths': {'home': ''},\n",
        "  'outtmpl': '%(id)s.%(ext)s',\n",
        "  # 'ignoreerrors': True,\n",
        "  'quiet': True,\n",
        "}\n",
        "with YoutubeDL(opts) as ydl: ydl.download(yt_str + id)\n",
        "frames = extract_frames(f\"{id}.{ext}\", frame_amt=1)\n",
        "answer = PromptGenerator.moondream(transcript, f\"{id}.{ext}\")\n",
        "os.remove(f\"{id}.{ext}\")\n",
        "diff = Diffuser()\n",
        "lora = \"sdxl/1344x768-200-1600-500-cats-no\"\n",
        "diff.pipe.load_lora_weights(f\"loras/{lora}.safetensors\")\n",
        "diff.generate(answer[\"positive\"], batch_size=4, width=gen_res[0], height=gen_res[1], seed=42)\n",
        "display(diff.get_grid())"
      ]
    },
    {
      "cell_type": "code",
      "execution_count": null,
      "metadata": {},
      "outputs": [],
      "source": [
        "print(answer)"
      ]
    },
    {
      "cell_type": "code",
      "execution_count": null,
      "metadata": {
        "id": "Fol7BLRQrb7L"
      },
      "outputs": [],
      "source": [
        "from thumbnail_generator import Youtube, PromptGenerator\n",
        "\n",
        "yt = Youtube(\"dataset/first\")\n",
        "videos = yt.videos\n",
        "v = videos[1]\n",
        "id = v[\"id\"]\n",
        "transcript = ' '.join([v[\"text\"] for v in v[\"caption\"]])\n",
        "print(transcript)\n",
        "print(id)"
      ]
    },
    {
      "cell_type": "code",
      "execution_count": null,
      "metadata": {
        "id": "imV6LULJrb7O"
      },
      "outputs": [],
      "source": [
        "# using the moondream model\n",
        "# PromptGenerator.moondream(transcript, vid_path = \"a01c.avi\")\n",
        "# using the moondream model, finetuned on ...\n",
        "res = PromptGenerator.moondream(transcript, vid_path = f\"videos/{id}.webm\", ft_path = \"moondream_ft_moon_mean_eps10_bs8\")\n",
        "print(res)"
      ]
    }
  ],
  "metadata": {
    "accelerator": "GPU",
    "colab": {
      "gpuType": "T4",
      "provenance": []
    },
    "kernelspec": {
      "display_name": ".venv",
      "language": "python",
      "name": "python3"
    },
    "language_info": {
      "codemirror_mode": {
        "name": "ipython",
        "version": 3
      },
      "file_extension": ".py",
      "mimetype": "text/x-python",
      "name": "python",
      "nbconvert_exporter": "python",
      "pygments_lexer": "ipython3",
      "version": "3.10.11"
    },
    "toc": {
      "base_numbering": 1,
      "nav_menu": {},
      "number_sections": true,
      "sideBar": true,
      "skip_h1_title": false,
      "title_cell": "Table of Contents",
      "title_sidebar": "Contents",
      "toc_cell": false,
      "toc_position": {},
      "toc_section_display": true,
      "toc_window_display": false
    }
  },
  "nbformat": 4,
  "nbformat_minor": 0
}
