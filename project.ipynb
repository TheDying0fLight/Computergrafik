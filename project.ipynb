{
 "cells": [
  {
   "cell_type": "markdown",
   "metadata": {},
   "source": [
    "Imports"
   ]
  },
  {
   "cell_type": "code",
   "execution_count": null,
   "metadata": {},
   "outputs": [],
   "source": [
    "import os\n",
    "from subprocess import Popen\n",
    "from auto1111sdk import StableDiffusionPipeline\n",
    "import main"
   ]
  },
  {
   "cell_type": "code",
   "execution_count": null,
   "metadata": {},
   "outputs": [],
   "source": [
    "%pip freeze > requirements.txt"
   ]
  },
  {
   "cell_type": "code",
   "execution_count": null,
   "metadata": {},
   "outputs": [],
   "source": [
    "# %pip install virtualenv\n",
    "# os.system(\"python -m venv -p python3.10 env\")\n",
    "# %pip install setuptools\n",
    "# %pip install --verbose torch==2.1.0 torchvision==0.16.0 torchaudio==2.1.0 --index-url https://download.pytorch.org/whl/cu121\n",
    "# %pip install --verbose torch==2.1.0 torchvision --index-url https://download.pytorch.org/whl/cu118\n",
    "# %pip install auto1111sdk"
   ]
  },
  {
   "cell_type": "markdown",
   "metadata": {},
   "source": [
    "Start Stable Diffusion"
   ]
  },
  {
   "cell_type": "code",
   "execution_count": null,
   "metadata": {},
   "outputs": [],
   "source": [
    "# import os\n",
    "# path = \"StableDiffusion\"\n",
    "# process = Popen(os.path.join(\".\", path, \"run.bat\"), shell=True)\n",
    "# os.system(run_path)"
   ]
  },
  {
   "cell_type": "code",
   "execution_count": null,
   "metadata": {},
   "outputs": [],
   "source": [
    "# path = \"stable-diffusion\"\n",
    "\n",
    "# pipe = StableDiffusionPipeline(\".\\dreamshaper.safetensors\")\n",
    "\n",
    "# prompt = \"a picture of a brown dog\"\n",
    "# output = pipe.generate_txt2img(prompt = prompt, height = 1024, width = 768, steps = 10)\n",
    "\n",
    "# output[0].save(\"image.png\")"
   ]
  },
  {
   "cell_type": "code",
   "execution_count": null,
   "metadata": {},
   "outputs": [],
   "source": [
    "main.test()"
   ]
  }
 ],
 "metadata": {
  "kernelspec": {
   "display_name": "myenv",
   "language": "python",
   "name": "python3"
  },
  "language_info": {
   "codemirror_mode": {
    "name": "ipython",
    "version": 3
   },
   "file_extension": ".py",
   "mimetype": "text/x-python",
   "name": "python",
   "nbconvert_exporter": "python",
   "pygments_lexer": "ipython3",
   "version": "3.10.0"
  }
 },
 "nbformat": 4,
 "nbformat_minor": 2
}
