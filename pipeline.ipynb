{
  "cells": [
    {
      "cell_type": "code",
      "execution_count": 1,
      "metadata": {},
      "outputs": [
        {
          "name": "stderr",
          "output_type": "stream",
          "text": [
            "The attention mask is not set and cannot be inferred from input because pad token is same as eos token. As a consequence, you may observe unexpected behavior. Please pass your input's `attention_mask` to obtain reliable results.\n",
            "The `seen_tokens` attribute is deprecated and will be removed in v4.41. Use the `cache_position` model input instead.\n",
            "`get_max_cache()` is deprecated for all Cache classes. Use `get_max_cache_shape()` instead. Calling `get_max_cache()` will raise error from v4.48\n"
          ]
        }
      ],
      "source": [
        "%load_ext autoreload\n",
        "%autoreload 2\n",
        "from youtube_transcript_api import YouTubeTranscriptApi\n",
        "from yt_dlp import YoutubeDL\n",
        "import os\n",
        "from thumbnail_generator import extract_frames, video_id, PromptGenerator\n",
        "\n",
        "url = \"https://www.youtube.com/watch?v=sw5stkAyP60\"\n",
        "yt_str = \"https://www.youtube.com/watch?v=\"\n",
        "ext = \"webm\"\n",
        "res = \"480\"\n",
        "\n",
        "id = video_id(url)\n",
        "transcript_list = YouTubeTranscriptApi.get_transcript(id)\n",
        "transcript = ' '.join([section['text'] for section in transcript_list])\n",
        "\n",
        "opts = {\n",
        "  'format': f'bestvideo[ext={ext}][height={res}]',\n",
        "  'geo_bypass': True,\n",
        "  'geo_bypass_country': 'US',\n",
        "  'paths': {'home': ''},\n",
        "  'outtmpl': '%(id)s.%(ext)s',\n",
        "  # 'ignoreerrors': True,\n",
        "  'quiet': True,\n",
        "}\n",
        "try:\n",
        "  with YoutubeDL(opts) as ydl: ydl.download(yt_str + id)\n",
        "  frames = extract_frames(f\"{id}.{ext}\", frame_amt=1)\n",
        "  answer = PromptGenerator.moondream(transcript, f\"{id}.{ext}\")\n",
        "  os.remove(f\"{id}.{ext}\")\n",
        "except Exception as e:\n",
        "  print(e)"
      ]
    },
    {
      "cell_type": "code",
      "execution_count": 2,
      "metadata": {},
      "outputs": [
        {
          "name": "stdout",
          "output_type": "stream",
          "text": [
            "{'positive': '\"The sun will rise\"', 'negative': 'The image shows a person holding a cup of coffee.'}\n"
          ]
        }
      ],
      "source": [
        "print(answer)"
      ]
    },
    {
      "cell_type": "code",
      "execution_count": 1,
      "metadata": {
        "id": "Fol7BLRQrb7L"
      },
      "outputs": [
        {
          "name": "stdout",
          "output_type": "stream",
          "text": [
            "this is the ivy league graduate in valedictorian Who police say is the suspected CEO assassin Luigi Nicholas Manon Luigi Manon is from a wealthy Maryland family he was valedictorian at his graduation from a $40,000 a year private school with a carnation in his button hole it's been an incredible journey and I simply can't imagine the last few years with any other group of guys thank you he is now a data engineer with a degree from the University of Pennsylvania this is a musclebound Manon working at an office in Honolulu where he last lived he is 26 years old and was arrested in a McDonald's in Altuna Pennsylvania 100 miles east of Pittsburgh and held at this local police headquarters he is believed to be our person of interest in the Brazen targeted murder of Brian Thompson CEO of United healthc Care last Wednesday in mid Town Manhattan a McDonald's employee recognized the grinning suspect from the surveillance camera images seen around the country that employee then called 911 police say he had a gun a silencer fake IDs and what is described as a Manifesto that Manifesto reportedly says of healthc care Executives those parasites had it coming and I do apologize for any strife and trauma but it had to be done this is one of the fake IDs found on on man Jon it's said to match the one used by the killer to check into a hostel in Upper Manhattan he is said to be a big admirer of the uni bomber Ted kazinski responsible for a 20year mailbombing campaign police say when he was busted at the McDonald's he was carrying a gun he made himself with a 3D printer his family owns two country clubs in Maryland and is this a clue to an alleged motive it's an image on Manon social media showing an x-ray of four pins in a spinal injury it's unclear whether Manon is the patient the Breakthrough in the case came as police divers continued to search a lake in New York Central Park for items dumped by the Assassin a backpack believed to have been worn by the killer was found in the Park Friday night it contained clothing and of all things wads of Monopoly money former FBI agent Jennifer coffen believes the Assassin wanted to send a message the Monopoly money symbolized United Health Care being a monopoly but it was bigger than that it was him showing his grandios in my opinion saying look I can taunt the police and they're still not going to find me there's not much funny about murder but Saturday night lives Weekend Update delivered a half dozen on liners about the Assassin and it really says something about America that a guy guy was murdered in Cold Blood and the two main reactions were yeah well healthc care stinks and also girl that's shooter hot beyond the laughter is one family's grief United healthc Care CEO Brian Thompson was laid to rest today now it seems as if the Six-Day search could be over thanks to an eagle-eyed McDonald's employee and McDonald's employee did something we ask every American to do if you see something say something but most importantly do something [Music]\n",
            "Yzt7KnWfwgs\n"
          ]
        }
      ],
      "source": [
        "from thumbnail_generator import Youtube, PromptGenerator\n",
        "\n",
        "yt = Youtube(\"dataset/first\")\n",
        "videos = yt.videos\n",
        "v = videos[1]\n",
        "id = v[\"id\"]\n",
        "transcript = ' '.join([v[\"text\"] for v in v[\"caption\"]])\n",
        "print(transcript)\n",
        "print(id)"
      ]
    },
    {
      "cell_type": "code",
      "execution_count": 2,
      "metadata": {
        "id": "imV6LULJrb7O"
      },
      "outputs": [
        {
          "name": "stderr",
          "output_type": "stream",
          "text": [
            "PhiForCausalLM has generative capabilities, as `prepare_inputs_for_generation` is explicitly overwritten. However, it doesn't directly inherit from `GenerationMixin`. From 👉v4.50👈 onwards, `PreTrainedModel` will NOT inherit from `GenerationMixin`, and this model will lose the ability to call `generate` and other related functions.\n",
            "  - If you're using `trust_remote_code=True`, you can get rid of this warning by loading the model with an auto class. See https://huggingface.co/docs/transformers/en/model_doc/auto#auto-classes\n",
            "  - If you are the owner of the model architecture code, please modify your model class such that it inherits from `GenerationMixin` (after `PreTrainedModel`, otherwise you'll get an exception).\n",
            "  - If you are not the owner of the model architecture class, please contact the model code owner to update it.\n",
            "The attention mask is not set and cannot be inferred from input because pad token is same as eos token. As a consequence, you may observe unexpected behavior. Please pass your input's `attention_mask` to obtain reliable results.\n",
            "The `seen_tokens` attribute is deprecated and will be removed in v4.41. Use the `cache_position` model input instead.\n",
            "`get_max_cache()` is deprecated for all Cache classes. Use `get_max_cache_shape()` instead. Calling `get_max_cache()` will raise error from v4.48\n"
          ]
        }
      ],
      "source": [
        "# using the moondream model\n",
        "# PromptGenerator.moondream(transcript, vid_path = \"a01c.avi\")\n",
        "# using the moondream model, finetuned on ...\n",
        "res = PromptGenerator.moondream(transcript, vid_path = f\"videos/{id}.webm\", ft_path = \"moondream_ft_moon_mean_eps10_bs8\")\n",
        "print(res)"
      ]
    }
  ],
  "metadata": {
    "accelerator": "GPU",
    "colab": {
      "gpuType": "T4",
      "provenance": []
    },
    "kernelspec": {
      "display_name": ".venv",
      "language": "python",
      "name": "python3"
    },
    "language_info": {
      "codemirror_mode": {
        "name": "ipython",
        "version": 3
      },
      "file_extension": ".py",
      "mimetype": "text/x-python",
      "name": "python",
      "nbconvert_exporter": "python",
      "pygments_lexer": "ipython3",
      "version": "3.10.11"
    },
    "toc": {
      "base_numbering": 1,
      "nav_menu": {},
      "number_sections": true,
      "sideBar": true,
      "skip_h1_title": false,
      "title_cell": "Table of Contents",
      "title_sidebar": "Contents",
      "toc_cell": false,
      "toc_position": {},
      "toc_section_display": true,
      "toc_window_display": false
    }
  },
  "nbformat": 4,
  "nbformat_minor": 0
}
